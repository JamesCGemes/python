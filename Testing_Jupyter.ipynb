{
 "cells": [
  {
   "cell_type": "code",
   "execution_count": 6,
   "id": "30a91cb5",
   "metadata": {},
   "outputs": [
    {
     "name": "stdout",
     "output_type": "stream",
     "text": [
      "1\n",
      "2\n"
     ]
    }
   ],
   "source": [
    "print(1)\n",
    "print(2)"
   ]
  },
  {
   "cell_type": "code",
   "execution_count": 7,
   "id": "6880a81c",
   "metadata": {},
   "outputs": [],
   "source": [
    "import pandas"
   ]
  },
  {
   "cell_type": "code",
   "execution_count": 8,
   "id": "630eecf9",
   "metadata": {},
   "outputs": [
    {
     "data": {
      "text/html": [
       "<div>\n",
       "<style scoped>\n",
       "    .dataframe tbody tr th:only-of-type {\n",
       "        vertical-align: middle;\n",
       "    }\n",
       "\n",
       "    .dataframe tbody tr th {\n",
       "        vertical-align: top;\n",
       "    }\n",
       "\n",
       "    .dataframe thead th {\n",
       "        text-align: right;\n",
       "    }\n",
       "</style>\n",
       "<table border=\"1\" class=\"dataframe\">\n",
       "  <thead>\n",
       "    <tr style=\"text-align: right;\">\n",
       "      <th></th>\n",
       "      <th>id</th>\n",
       "      <th>first_name</th>\n",
       "      <th>last_name</th>\n",
       "      <th>email</th>\n",
       "    </tr>\n",
       "  </thead>\n",
       "  <tbody>\n",
       "    <tr>\n",
       "      <th>0</th>\n",
       "      <td>1</td>\n",
       "      <td>Gabriello</td>\n",
       "      <td>Jordison</td>\n",
       "      <td>gjordison0@google.es</td>\n",
       "    </tr>\n",
       "    <tr>\n",
       "      <th>1</th>\n",
       "      <td>2</td>\n",
       "      <td>Jourdain</td>\n",
       "      <td>Marty</td>\n",
       "      <td>jmarty1@mayoclinic.com</td>\n",
       "    </tr>\n",
       "    <tr>\n",
       "      <th>2</th>\n",
       "      <td>3</td>\n",
       "      <td>Borden</td>\n",
       "      <td>Imlen</td>\n",
       "      <td>bimlen2@sakura.ne.jp</td>\n",
       "    </tr>\n",
       "    <tr>\n",
       "      <th>3</th>\n",
       "      <td>4</td>\n",
       "      <td>Sylvester</td>\n",
       "      <td>Jacobowitz</td>\n",
       "      <td>sjacobowitz3@tiny.cc</td>\n",
       "    </tr>\n",
       "    <tr>\n",
       "      <th>4</th>\n",
       "      <td>5</td>\n",
       "      <td>Faulkner</td>\n",
       "      <td>Hilbourne</td>\n",
       "      <td>fhilbourne4@live.com</td>\n",
       "    </tr>\n",
       "    <tr>\n",
       "      <th>...</th>\n",
       "      <td>...</td>\n",
       "      <td>...</td>\n",
       "      <td>...</td>\n",
       "      <td>...</td>\n",
       "    </tr>\n",
       "    <tr>\n",
       "      <th>995</th>\n",
       "      <td>996</td>\n",
       "      <td>Camella</td>\n",
       "      <td>Yitzowitz</td>\n",
       "      <td>cyitzowitzrn@microsoft.com</td>\n",
       "    </tr>\n",
       "    <tr>\n",
       "      <th>996</th>\n",
       "      <td>997</td>\n",
       "      <td>Esta</td>\n",
       "      <td>Scotchmore</td>\n",
       "      <td>escotchmorero@usgs.gov</td>\n",
       "    </tr>\n",
       "    <tr>\n",
       "      <th>997</th>\n",
       "      <td>998</td>\n",
       "      <td>Roxy</td>\n",
       "      <td>Leverson</td>\n",
       "      <td>rleversonrp@mashable.com</td>\n",
       "    </tr>\n",
       "    <tr>\n",
       "      <th>998</th>\n",
       "      <td>999</td>\n",
       "      <td>Darius</td>\n",
       "      <td>Wardroper</td>\n",
       "      <td>dwardroperrq@jugem.jp</td>\n",
       "    </tr>\n",
       "    <tr>\n",
       "      <th>999</th>\n",
       "      <td>1000</td>\n",
       "      <td>Hyman</td>\n",
       "      <td>Larcier</td>\n",
       "      <td>hlarcierrr@macromedia.com</td>\n",
       "    </tr>\n",
       "  </tbody>\n",
       "</table>\n",
       "<p>1000 rows × 4 columns</p>\n",
       "</div>"
      ],
      "text/plain": [
       "       id first_name   last_name                       email\n",
       "0       1  Gabriello    Jordison        gjordison0@google.es\n",
       "1       2   Jourdain       Marty      jmarty1@mayoclinic.com\n",
       "2       3     Borden       Imlen        bimlen2@sakura.ne.jp\n",
       "3       4  Sylvester  Jacobowitz        sjacobowitz3@tiny.cc\n",
       "4       5   Faulkner   Hilbourne        fhilbourne4@live.com\n",
       "..    ...        ...         ...                         ...\n",
       "995   996    Camella   Yitzowitz  cyitzowitzrn@microsoft.com\n",
       "996   997       Esta  Scotchmore      escotchmorero@usgs.gov\n",
       "997   998       Roxy    Leverson    rleversonrp@mashable.com\n",
       "998   999     Darius   Wardroper       dwardroperrq@jugem.jp\n",
       "999  1000      Hyman     Larcier   hlarcierrr@macromedia.com\n",
       "\n",
       "[1000 rows x 4 columns]"
      ]
     },
     "execution_count": 8,
     "metadata": {},
     "output_type": "execute_result"
    }
   ],
   "source": [
    "df=pandas.read_csv(\"existing.csv\")\n",
    "df\n"
   ]
  },
  {
   "cell_type": "code",
   "execution_count": null,
   "id": "05a16d0d",
   "metadata": {},
   "outputs": [],
   "source": []
  }
 ],
 "metadata": {
  "kernelspec": {
   "display_name": "Python 3 (ipykernel)",
   "language": "python",
   "name": "python3"
  },
  "language_info": {
   "codemirror_mode": {
    "name": "ipython",
    "version": 3
   },
   "file_extension": ".py",
   "mimetype": "text/x-python",
   "name": "python",
   "nbconvert_exporter": "python",
   "pygments_lexer": "ipython3",
   "version": "3.9.5"
  }
 },
 "nbformat": 4,
 "nbformat_minor": 5
}
